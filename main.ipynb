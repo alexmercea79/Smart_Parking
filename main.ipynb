{
 "cells": [
  {
   "cell_type": "code",
   "execution_count": 1,
   "metadata": {},
   "outputs": [
    {
     "name": "stdout",
     "output_type": "stream",
     "text": [
      "Executie terminata\n",
      "Executie terminata\n"
     ]
    }
   ],
   "source": [
    "import yaml\n",
    "import numpy as np\n",
    "import cv2\n",
    "from imutils.object_detection import non_max_suppression\n",
    "\n",
    "def perform_classification(video_src, cascade_src):\n",
    "    cap = cv2.VideoCapture(video_src)\n",
    "    car_cascade = cv2.CascadeClassifier(cascade_src)\n",
    "    while True:\n",
    "        ret, img = cap.read()\n",
    "        if (type(img) == type(None)):\n",
    "            print('Video-ul nu este gasit')\n",
    "            break\n",
    "        image_scaled = cv2.resize(img, None, fx=0.6, fy=0.6)\n",
    "        gray = cv2.cvtColor(image_scaled, cv2.COLOR_BGR2GRAY)\n",
    "        cars = car_cascade.detectMultiScale(gray, 1.1, 1) #1.1, 1\n",
    "        cars = np.array([[x, y, x + w, y + h] for (x, y, w, h) in cars])\n",
    "        pick = non_max_suppression(cars, probs=None, overlapThresh=0.65)\n",
    "        for (x, y, w, h) in pick:\n",
    "            # cv2.rectangle(image_scaled, (x, y), (x + w, y + h), (0 , 255, 255), 2) #bgr\n",
    "            cv2.rectangle(image_scaled, (x, y), (w,  h), (0, 255, 255), 2)\n",
    "        cv2.imshow('Apasa ESC pentru a iesi din PROGRAM', image_scaled)\n",
    "\n",
    "            # esc pt iesire\n",
    "        if cv2.waitKey(33) == 27:\n",
    "            break\n",
    "    print('Executie terminata')\n",
    "    cv2.destroyAllWindows()\n",
    "    \n",
    "\n",
    "perform_classification('videos/testvideo_01.avi', 'classifiers/classifier_03.xml')    # autostrada\n",
    "perform_classification('videos/testvideo_01.avi', 'classifiers/classifier_02.xml')    # autostrada\n",
    "\n"
   ]
  },
  {
   "cell_type": "code",
   "execution_count": 2,
   "metadata": {
    "scrolled": true
   },
   "outputs": [
    {
     "name": "stdout",
     "output_type": "stream",
     "text": [
      "Classifier 2 - Utilizat\n",
      "23 autovehicule detectate.\n",
      "23 autovehicule detectate.\n",
      "23 autovehicule detectate.\n",
      "23 autovehicule detectate.\n",
      "23 autovehicule detectate.\n",
      "Acuratețe vehicule:  76.66666666666667\n",
      "Classifier 1\n",
      "15 autovehicule detectate.\n",
      "15 autovehicule detectate.\n",
      "15 autovehicule detectate.\n",
      "15 autovehicule detectate.\n",
      "15 autovehicule detectate.\n",
      "Acuratețe vehicule:  50.0\n"
     ]
    },
    {
     "data": {
      "text/plain": [
       "50.0"
      ]
     },
     "execution_count": 2,
     "metadata": {},
     "output_type": "execute_result"
    }
   ],
   "source": [
    "import test_acc as acc\n",
    "print(\"Classifier 2 - Utilizat\")\n",
    "acc.get_acc('classifiers/classifier_02.xml')\n",
    "print(\"Classifier 1\")\n",
    "acc.get_acc('classifiers/classifier_01.xml')\n"
   ]
  },
  {
   "cell_type": "code",
   "execution_count": null,
   "metadata": {},
   "outputs": [],
   "source": []
  }
 ],
 "metadata": {
  "anaconda-cloud": {},
  "kernelspec": {
   "display_name": "Python 3",
   "language": "python",
   "name": "python3"
  },
  "language_info": {
   "codemirror_mode": {
    "name": "ipython",
    "version": 3
   },
   "file_extension": ".py",
   "mimetype": "text/x-python",
   "name": "python",
   "nbconvert_exporter": "python",
   "pygments_lexer": "ipython3",
   "version": "3.7.6"
  }
 },
 "nbformat": 4,
 "nbformat_minor": 1
}
