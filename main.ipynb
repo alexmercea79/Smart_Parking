{
 "cells": [
  {
   "cell_type": "code",
   "execution_count": 2,
   "metadata": {},
   "outputs": [
    {
     "name": "stdout",
     "output_type": "stream",
     "text": [
      "Executie terminata\n",
      "Executie terminata\n"
     ]
    }
   ],
   "source": [
    "import yaml\n",
    "import numpy as np\n",
    "import cv2\n",
    "from imutils.object_detection import non_max_suppression\n",
    "\n",
    "def perform_classification(video_src, cascade_src):\n",
    "    cap = cv2.VideoCapture(video_src)\n",
    "    car_cascade = cv2.CascadeClassifier(cascade_src)\n",
    "    while True:\n",
    "        ret, img = cap.read()\n",
    "        if (type(img) == type(None)):\n",
    "            print('Video-ul nu este gasit')\n",
    "            break\n",
    "        image_scaled = cv2.resize(img, None, fx=0.6, fy=0.6)\n",
    "        gray = cv2.cvtColor(image_scaled, cv2.COLOR_BGR2GRAY)\n",
    "        cars = car_cascade.detectMultiScale(gray, 1.1, 1) #1.1, 1\n",
    "        cars = np.array([[x, y, x + w, y + h] for (x, y, w, h) in cars])\n",
    "        pick = non_max_suppression(cars, probs=None, overlapThresh=0.65)\n",
    "        for (x, y, w, h) in pick:\n",
    "            # cv2.rectangle(image_scaled, (x, y), (x + w, y + h), (0 , 255, 255), 2) #bgr\n",
    "            cv2.rectangle(image_scaled, (x, y), (w,  h), (0, 255, 255), 2)\n",
    "        cv2.imshow('Apasa ESC pentru a iesi din PROGRAM', image_scaled)\n",
    "\n",
    "            # esc pt iesire\n",
    "        if cv2.waitKey(33) == 27:\n",
    "            break\n",
    "    print('Executie terminata')\n",
    "    cv2.destroyAllWindows()\n",
    "    \n",
    "\n",
    "perform_classification('videos/testvideo_01.avi', 'classifiers/classifier_03.xml')    # autostrada\n",
    "perform_classification('videos/testvideo_01.avi', 'classifiers/classifier_02.xml')    # autostrada\n",
    "\n"
   ]
  },
  {
   "cell_type": "code",
   "execution_count": 1,
   "metadata": {},
   "outputs": [
    {
     "name": "stdout",
     "output_type": "stream",
     "text": [
      "Classifier 2 - Utilizat\n",
      "23 autovehicule detectate.\n",
      "23 autovehicule detectate.\n",
      "23 autovehicule detectate.\n",
      "23 autovehicule detectate.\n",
      "23 autovehicule detectate.\n",
      "Acuratețe vehicule:  76.66666666666667\n",
      "Classifier 1\n",
      "15 autovehicule detectate.\n",
      "15 autovehicule detectate.\n",
      "15 autovehicule detectate.\n",
      "15 autovehicule detectate.\n",
      "15 autovehicule detectate.\n",
      "Acuratețe vehicule:  50.0\n"
     ]
    },
    {
     "data": {
      "text/plain": [
       "50.0"
      ]
     },
     "execution_count": 1,
     "metadata": {},
     "output_type": "execute_result"
    }
   ],
   "source": [
    "# acuratete classifier\n",
    "import test_acc as acc\n",
    "print(\"Classifier 2 - Utilizat\")\n",
    "acc.get_acc('classifiers/classifier_02.xml')\n",
    "print(\"Classifier 1\")\n",
    "acc.get_acc('classifiers/classifier_01.xml')\n"
   ]
  },
  {
   "cell_type": "code",
   "execution_count": 4,
   "metadata": {},
   "outputs": [
    {
     "name": "stdout",
     "output_type": "stream",
     "text": [
      "mean:  2.470465407669543\n",
      "median:  2.3658536585365852\n"
     ]
    },
    {
     "name": "stderr",
     "output_type": "stream",
     "text": [
      "C:\\Users\\alexm\\AppData\\Roaming\\Python\\Python37\\site-packages\\ipykernel_launcher.py:14: YAMLLoadWarning: calling yaml.load() without Loader=... is deprecated, as the default Loader is unsafe. Please read https://msg.pyyaml.org/load for full details.\n",
      "  \n"
     ]
    }
   ],
   "source": [
    "\n",
    "import statistics\n",
    "import cv2\n",
    "import yaml\n",
    "import numpy as np\n",
    "        \n",
    "sum_up = 0.0\n",
    "delta_list = []\n",
    "frame = cv2.imread('images/frame_01.png') #\n",
    "parking_bounding_rects = []\n",
    "parking_mask = []\n",
    "frame_blur = cv2.GaussianBlur(frame.copy(), (5,5), 3)\n",
    "frame_gray = cv2.cvtColor(frame_blur, cv2.COLOR_BGR2GRAY)\n",
    "with open('ymls/test_yml_01.yml', 'r') as stream:\n",
    "    parking_data = yaml.load(stream)\n",
    "    \n",
    "if parking_data != None:\n",
    "    for park in parking_data:\n",
    "        points = np.array(park['points'])\n",
    "        rect = cv2.boundingRect(points)\n",
    "        points_shifted = points.copy()\n",
    "        points_shifted[:,0] = points[:,0] - rect[0] # schimba conturul\n",
    "        points_shifted[:,1] = points[:,1] - rect[1]\n",
    "        \n",
    "        parking_bounding_rects.append(rect)\n",
    "        mask = cv2.drawContours(np.zeros((rect[3], rect[2]), dtype=np.uint8), [points_shifted], contourIdx=-1,\n",
    "                                    color=255, thickness=-1, lineType=cv2.LINE_8)\n",
    "        mask = mask==255\n",
    "        parking_mask.append(mask)\n",
    "\n",
    "for ind, park in enumerate(parking_data):\n",
    "        points = np.array(park['points'])\n",
    "        rect = parking_bounding_rects[ind]\n",
    "        roi_gray = frame_gray[rect[1]:(rect[1]+rect[3]), rect[0]:(rect[0]+rect[2])] # crop roi\n",
    "\n",
    "        laplacian = cv2.Laplacian(roi_gray, cv2.CV_64F)\n",
    "        points[:,0] = points[:,0] - rect[0] # schimba conturul roi\n",
    "        points[:,1] = points[:,1] - rect[1]\n",
    "        delta = np.mean(np.abs(laplacian * parking_mask[ind]))\n",
    "        if(delta > 1.8):    # ignora spatiile goale\n",
    "            delta_list.append(delta)\n",
    "            # print(delta)\n",
    "        sum_up = sum_up + delta\n",
    "        \n",
    "avg = sum_up/len(parking_data)\n",
    "med = statistics.median(delta_list)\n",
    "print(\"mean: \", avg)\n",
    "print(\"median: \", med)"
   ]
  },
  {
   "cell_type": "code",
   "execution_count": null,
   "metadata": {},
   "outputs": [],
   "source": []
  }
 ],
 "metadata": {
  "anaconda-cloud": {},
  "kernelspec": {
   "display_name": "Python 3",
   "language": "python",
   "name": "python3"
  },
  "language_info": {
   "codemirror_mode": {
    "name": "ipython",
    "version": 3
   },
   "file_extension": ".py",
   "mimetype": "text/x-python",
   "name": "python",
   "nbconvert_exporter": "python",
   "pygments_lexer": "ipython3",
   "version": "3.7.6"
  }
 },
 "nbformat": 4,
 "nbformat_minor": 1
}
